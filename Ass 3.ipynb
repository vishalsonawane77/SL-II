{
  "cells": [
    {
      "cell_type": "markdown",
      "id": "338a5f6d-8360-4166-b7d7-5778a34a327f",
      "metadata": {
        "id": "338a5f6d-8360-4166-b7d7-5778a34a327f"
      },
      "source": [
        "Write a program using Perceptron Neural Network to recognize even numbers."
      ]
    },
    {
      "cell_type": "code",
      "execution_count": null,
      "id": "26380a55-7a19-49b6-ae32-9055a45f4c31",
      "metadata": {
        "id": "26380a55-7a19-49b6-ae32-9055a45f4c31"
      },
      "outputs": [],
      "source": [
        "import numpy as np"
      ]
    },
    {
      "cell_type": "code",
      "execution_count": null,
      "id": "c9b7372d-8cd7-4fc8-b259-811951288497",
      "metadata": {
        "id": "c9b7372d-8cd7-4fc8-b259-811951288497"
      },
      "outputs": [],
      "source": [
        "inputs = np.array([ [0,0,0,0,0,0,0,1],#1\n",
        "          [0,0,0,0,0,0,1,0],#2\n",
        "          [0,0,0,0,0,0,1,1],#3\n",
        "          [0,0,0,0,0,1,0,0],#4\n",
        "          [0,0,0,0,0,1,0,1],#5\n",
        "          [0,0,0,0,0,1,1,0],#6\n",
        "          [0,0,0,0,0,1,1,1],#7\n",
        "          [0,0,0,0,1,0,0,0],#8\n",
        "          [0,0,0,0,1,0,0,1],#9\n",
        "          [0,0,0,0,1,0,1,0]#10\n",
        "        ])\n",
        "targets = [1,0,1,0,1,0,1,0,1,0]\n",
        "# 0 - even\n",
        "#1 -odd"
      ]
    },
    {
      "cell_type": "code",
      "execution_count": null,
      "id": "c556f8b3-5220-4c4a-926e-d397611f410e",
      "metadata": {
        "id": "c556f8b3-5220-4c4a-926e-d397611f410e"
      },
      "outputs": [],
      "source": [
        "class Perceptron:\n",
        "    def __init__(self, lr=0.1):\n",
        "        self.lr = lr\n",
        "\n",
        "    def activation(self, Z):\n",
        "        return 1/(1+np.exp(-Z))\n",
        "\n",
        "    def predict(self, X):\n",
        "        pred=[]\n",
        "        for i in range(len(X)):\n",
        "            Z = np.dot(X[i], self.W)+self.b\n",
        "            prob = self.activation(Z)\n",
        "\n",
        "            if prob>=0.5:\n",
        "                pred.append(1)\n",
        "            else:\n",
        "                pred.append(0)\n",
        "        return pred\n",
        "\n",
        "    def train(self,X,y,epochs=100):\n",
        "        self.W = np.random.rand(len(X[0]))\n",
        "        self.b = np.random.rand()\n",
        "        for epoch in range(epochs):\n",
        "            for i in range(len(X)):\n",
        "                Z = np.dot(X[i],self.W) + self.b\n",
        "                preds = self.activation(Z)\n",
        "\n",
        "                error = y[i]-preds\n",
        "\n",
        "                self.W += self.lr * error * X[i]\n",
        "                self.b += self.lr * error\n"
      ]
    },
    {
      "cell_type": "code",
      "execution_count": null,
      "id": "01545c8e-682d-4775-b972-984ab826ac88",
      "metadata": {
        "id": "01545c8e-682d-4775-b972-984ab826ac88",
        "outputId": "35d0e33a-008a-490d-84fe-983f4508616c"
      },
      "outputs": [
        {
          "name": "stdout",
          "output_type": "stream",
          "text": [
            "True\n",
            "[1, 0, 1, 0, 1, 0, 1, 0, 1, 0]\n"
          ]
        }
      ],
      "source": [
        "P = Perceptron()\n",
        "P.train(inputs, targets, epochs=100)\n",
        "\n",
        "pred = P.predict(inputs)\n",
        "print(pred == targets)\n",
        "\n",
        "binary_numbers_11_to_20 = np.array([\n",
        "    [0, 0, 0, 0, 1, 0, 1, 1],# 11\n",
        "    [0, 0, 0, 0, 1, 1, 0, 0],# 12\n",
        "    [0, 0, 0, 0, 1, 1, 0, 1],# 13\n",
        "    [0, 0, 0, 0, 1, 1, 1, 0],# 14\n",
        "    [0, 0, 0, 0, 1, 1, 1, 1],# 15\n",
        "    [0, 0, 0, 1, 0, 0, 0, 0],# 16\n",
        "    [0, 0, 0, 1, 0, 0, 0, 1],# 17\n",
        "    [0, 0, 0, 1, 0, 0, 1, 0],# 18\n",
        "    [0, 0, 0, 1, 0, 0, 1, 1],# 19\n",
        "    [0, 0, 0, 1, 0, 1, 0, 0]# 20\n",
        "])\n",
        "predictions = P.predict(binary_numbers_11_to_20)\n",
        "\n",
        "print(predictions)"
      ]
    },
    {
      "cell_type": "code",
      "execution_count": null,
      "id": "f0347f21-229e-48e5-985c-670d89b19ba8",
      "metadata": {
        "id": "f0347f21-229e-48e5-985c-670d89b19ba8"
      },
      "outputs": [],
      "source": []
    }
  ],
  "metadata": {
    "kernelspec": {
      "display_name": "Python 3 (ipykernel)",
      "language": "python",
      "name": "python3"
    },
    "language_info": {
      "codemirror_mode": {
        "name": "ipython",
        "version": 3
      },
      "file_extension": ".py",
      "mimetype": "text/x-python",
      "name": "python",
      "nbconvert_exporter": "python",
      "pygments_lexer": "ipython3",
      "version": "3.10.12"
    },
    "colab": {
      "provenance": []
    }
  },
  "nbformat": 4,
  "nbformat_minor": 5
}