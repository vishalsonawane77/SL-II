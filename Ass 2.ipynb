{
  "cells": [
    {
      "cell_type": "code",
      "execution_count": null,
      "id": "197d48a5-f0b6-4bbd-94c1-3be09bccc27c",
      "metadata": {
        "id": "197d48a5-f0b6-4bbd-94c1-3be09bccc27c"
      },
      "outputs": [],
      "source": [
        "# importing numpy library\n",
        "import numpy as np"
      ]
    },
    {
      "cell_type": "code",
      "execution_count": null,
      "id": "fb5e4f29-7135-4588-9b64-b1a8be26ceb3",
      "metadata": {
        "id": "fb5e4f29-7135-4588-9b64-b1a8be26ceb3"
      },
      "outputs": [],
      "source": [
        "# getting data and necessary weights\n",
        "\n",
        "X = np.array([\n",
        "    [0,0],\n",
        "    [0,1],\n",
        "    [1,0],\n",
        "    [1,1]\n",
        "])\n",
        "\n",
        "w = np.array([1,-1])\n"
      ]
    },
    {
      "cell_type": "code",
      "execution_count": null,
      "id": "e708b0e0-3638-4f0f-8701-58f712cf7e5d",
      "metadata": {
        "id": "e708b0e0-3638-4f0f-8701-58f712cf7e5d",
        "outputId": "a062d1e8-6c43-4202-870d-788f00707842"
      },
      "outputs": [
        {
          "data": {
            "text/plain": [
              "array([ 0, -1,  1,  0])"
            ]
          },
          "execution_count": 8,
          "metadata": {},
          "output_type": "execute_result"
        }
      ],
      "source": [
        "# Dot products of the data and weights and displaying the answer\n",
        "ans = np.dot(X,w)\n",
        "ans"
      ]
    },
    {
      "cell_type": "code",
      "execution_count": null,
      "id": "ed9579d1-7d73-4cc6-a7f4-cc08ec1d2523",
      "metadata": {
        "id": "ed9579d1-7d73-4cc6-a7f4-cc08ec1d2523",
        "outputId": "e79c13dc-c122-490e-b2ea-85aca6c4f7ef"
      },
      "outputs": [
        {
          "data": {
            "text/plain": [
              "array([0, 0, 1, 0])"
            ]
          },
          "execution_count": 11,
          "metadata": {},
          "output_type": "execute_result"
        }
      ],
      "source": [
        "# Applying the threshold T and calculating and displaying the activation output\n",
        "T = 0 # Threshold T\n",
        "y = np.where(ans > T, 1, 0 )\n",
        "y"
      ]
    },
    {
      "cell_type": "code",
      "execution_count": null,
      "id": "45a4e683-6482-4da9-9c61-fb171159c6a5",
      "metadata": {
        "id": "45a4e683-6482-4da9-9c61-fb171159c6a5",
        "outputId": "2265db76-6328-4e6b-e47a-f856e6a64d57"
      },
      "outputs": [
        {
          "name": "stdout",
          "output_type": "stream",
          "text": [
            "Activation of [0 0]: 0\n",
            "Activation of [0 1]: 0\n",
            "Activation of [1 0]: 1\n",
            "Activation of [1 1]: 0\n"
          ]
        }
      ],
      "source": [
        "# Final output display\n",
        "for i in range(4):\n",
        "    print(f\"Activation of {X[i]}: {y[i]}\")"
      ]
    }
  ],
  "metadata": {
    "kernelspec": {
      "display_name": "Python 3 (ipykernel)",
      "language": "python",
      "name": "python3"
    },
    "language_info": {
      "codemirror_mode": {
        "name": "ipython",
        "version": 3
      },
      "file_extension": ".py",
      "mimetype": "text/x-python",
      "name": "python",
      "nbconvert_exporter": "python",
      "pygments_lexer": "ipython3",
      "version": "3.10.12"
    },
    "colab": {
      "provenance": []
    }
  },
  "nbformat": 4,
  "nbformat_minor": 5
}