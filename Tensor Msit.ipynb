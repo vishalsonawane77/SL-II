{
 "cells": [
  {
   "cell_type": "code",
   "execution_count": 1,
   "id": "3ddd78b3",
   "metadata": {},
   "outputs": [],
   "source": [
    "#MNIST Handwritten Character Detection using PyTorch, Keras and Tensorflow"
   ]
  },
  {
   "cell_type": "code",
   "execution_count": 6,
   "id": "5e980774",
   "metadata": {},
   "outputs": [],
   "source": [
    "import tensorflow as tf\n",
    "from keras.datasets import mnist \n",
    "from keras.models import Sequential\n",
    "from keras.layers import Dense, Flatten \n",
    "\n",
    "# Load and preprocess the MNIST dataset\n",
    "(X_train, y_train), (X_test, y_test) = mnist.load_data() "
   ]
  },
  {
   "cell_type": "code",
   "execution_count": 7,
   "id": "11260053",
   "metadata": {},
   "outputs": [],
   "source": [
    "X_train = X_train / 255.0  \n",
    "X_test = X_test / 255.0"
   ]
  },
  {
   "cell_type": "code",
   "execution_count": 9,
   "id": "6f8f0ff4",
   "metadata": {},
   "outputs": [
    {
     "name": "stdout",
     "output_type": "stream",
     "text": [
      "Epoch 1/10\n",
      "\u001b[1m938/938\u001b[0m \u001b[32m━━━━━━━━━━━━━━━━━━━━\u001b[0m\u001b[37m\u001b[0m \u001b[1m5s\u001b[0m 4ms/step - accuracy: 0.8593 - loss: 0.5061\n",
      "Epoch 2/10\n",
      "\u001b[1m938/938\u001b[0m \u001b[32m━━━━━━━━━━━━━━━━━━━━\u001b[0m\u001b[37m\u001b[0m \u001b[1m3s\u001b[0m 4ms/step - accuracy: 0.9574 - loss: 0.1495\n",
      "Epoch 3/10\n",
      "\u001b[1m938/938\u001b[0m \u001b[32m━━━━━━━━━━━━━━━━━━━━\u001b[0m\u001b[37m\u001b[0m \u001b[1m4s\u001b[0m 4ms/step - accuracy: 0.9712 - loss: 0.1006\n",
      "Epoch 4/10\n",
      "\u001b[1m938/938\u001b[0m \u001b[32m━━━━━━━━━━━━━━━━━━━━\u001b[0m\u001b[37m\u001b[0m \u001b[1m4s\u001b[0m 4ms/step - accuracy: 0.9792 - loss: 0.0711\n",
      "Epoch 5/10\n",
      "\u001b[1m938/938\u001b[0m \u001b[32m━━━━━━━━━━━━━━━━━━━━\u001b[0m\u001b[37m\u001b[0m \u001b[1m4s\u001b[0m 4ms/step - accuracy: 0.9833 - loss: 0.0566\n",
      "Epoch 6/10\n",
      "\u001b[1m938/938\u001b[0m \u001b[32m━━━━━━━━━━━━━━━━━━━━\u001b[0m\u001b[37m\u001b[0m \u001b[1m4s\u001b[0m 4ms/step - accuracy: 0.9872 - loss: 0.0437\n",
      "Epoch 7/10\n",
      "\u001b[1m938/938\u001b[0m \u001b[32m━━━━━━━━━━━━━━━━━━━━\u001b[0m\u001b[37m\u001b[0m \u001b[1m6s\u001b[0m 5ms/step - accuracy: 0.9885 - loss: 0.0384\n",
      "Epoch 8/10\n",
      "\u001b[1m938/938\u001b[0m \u001b[32m━━━━━━━━━━━━━━━━━━━━\u001b[0m\u001b[37m\u001b[0m \u001b[1m4s\u001b[0m 4ms/step - accuracy: 0.9917 - loss: 0.0292\n",
      "Epoch 9/10\n",
      "\u001b[1m938/938\u001b[0m \u001b[32m━━━━━━━━━━━━━━━━━━━━\u001b[0m\u001b[37m\u001b[0m \u001b[1m3s\u001b[0m 3ms/step - accuracy: 0.9933 - loss: 0.0246\n",
      "Epoch 10/10\n",
      "\u001b[1m938/938\u001b[0m \u001b[32m━━━━━━━━━━━━━━━━━━━━\u001b[0m\u001b[37m\u001b[0m \u001b[1m4s\u001b[0m 5ms/step - accuracy: 0.9952 - loss: 0.0199\n",
      "\u001b[1m313/313\u001b[0m \u001b[32m━━━━━━━━━━━━━━━━━━━━\u001b[0m\u001b[37m\u001b[0m \u001b[1m1s\u001b[0m 1ms/step - accuracy: 0.9744 - loss: 0.0864\n"
     ]
    }
   ],
   "source": [
    "model = Sequential([Flatten(input_shape=(28, 28)), Dense(128, activation='relu'), Dense(10, activation='softmax')])\n",
    "\n",
    "model.compile(optimizer='adam', loss='sparse_categorical_crossentropy',metrics=['accuracy'])\n",
    "\n",
    "model.fit(X_train, y_train, epochs=10, batch_size=64 )\n",
    "\n",
    "loss, accuracy = model.evaluate(X_test, y_test) "
   ]
  },
  {
   "cell_type": "code",
   "execution_count": 12,
   "id": "130ecc98",
   "metadata": {},
   "outputs": [
    {
     "name": "stdout",
     "output_type": "stream",
     "text": [
      "Test Loss: 0.07466009259223938\n",
      "Test Accuracy: 0.9789999723434448\n"
     ]
    }
   ],
   "source": [
    "print(f\"Test Loss: {loss}\")\n",
    "print(f\"Test Accuracy: {accuracy}\")"
   ]
  },
  {
   "cell_type": "code",
   "execution_count": null,
   "id": "56e16a58",
   "metadata": {},
   "outputs": [],
   "source": []
  },
  {
   "cell_type": "code",
   "execution_count": null,
   "id": "9de96561",
   "metadata": {},
   "outputs": [],
   "source": []
  },
  {
   "cell_type": "code",
   "execution_count": 13,
   "id": "5ecbfff7",
   "metadata": {},
   "outputs": [
    {
     "data": {
      "text/plain": [
       "'\\nImport necessary libraries:\\nTensorFlow: for building and training the neural network.\\nKeras functions from TensorFlow: for building the neural network model.\\nMNIST dataset from Keras: for loading the handwritten digit dataset.\\n    \\nLoad the MNIST dataset using mnist.load_data() function from the Keras datasets module. The dataset contains 60,000 training images and 10,000 testing images of handwritten digits (0 through 9).\\n\\nPreprocess the data by scaling the pixel values to a range between 0 and 1. This is done by dividing the pixel values by 255.0.\\n\\nBuild a simple neural network model using Keras Sequential API. The model consists of:\\nA Flatten layer: to flatten the 2D input images into a 1D array.\\nTwo Dense layers:\\nThe first Dense layer with 128 neurons and ReLU activation function.\\nThe second Dense layer with 10 neurons (output layer) and softmax activation function, suitable for multi-class classification tasks.\\n\\nCompile the model using compile() method. Specify optimizer, loss function, and evaluation metrics. In this case:\\nOptimizer: Adam optimizer.\\nLoss function: Sparse categorical cross-entropy, suitable for multi-class classification tasks where the labels are integers.\\nEvaluation metric: Accuracy.\\n    \\nTrain the model on the training data using fit() method. Specify the training data, labels, number of epochs (iterations over the entire training dataset), and batch size.\\n\\nEvaluate the trained model on the test data using evaluate() method. This returns the loss value and evaluation metric value (accuracy) on the test set.\\n\\nPrint the test loss and accuracy.\\n\\nThis program trains a neural network model to classify handwritten digits from the MNIST dataset using TensorFlow/Keras and evaluates its performance using test data.\\n\\n'"
      ]
     },
     "execution_count": 13,
     "metadata": {},
     "output_type": "execute_result"
    }
   ],
   "source": [
    "'''\n",
    "Import necessary libraries:\n",
    "TensorFlow: for building and training the neural network.\n",
    "Keras functions from TensorFlow: for building the neural network model.\n",
    "MNIST dataset from Keras: for loading the handwritten digit dataset.\n",
    "    \n",
    "Load the MNIST dataset using mnist.load_data() function from the Keras datasets module. The dataset contains 60,000 training images and 10,000 testing images of handwritten digits (0 through 9).\n",
    "\n",
    "Preprocess the data by scaling the pixel values to a range between 0 and 1. This is done by dividing the pixel values by 255.0.\n",
    "\n",
    "Build a simple neural network model using Keras Sequential API. The model consists of:\n",
    "A Flatten layer: to flatten the 2D input images into a 1D array.\n",
    "Two Dense layers:\n",
    "The first Dense layer with 128 neurons and ReLU activation function.\n",
    "The second Dense layer with 10 neurons (output layer) and softmax activation function, suitable for multi-class classification tasks.\n",
    "\n",
    "Compile the model using compile() method. Specify optimizer, loss function, and evaluation metrics. In this case:\n",
    "Optimizer: Adam optimizer.\n",
    "Loss function: Sparse categorical cross-entropy, suitable for multi-class classification tasks where the labels are integers.\n",
    "Evaluation metric: Accuracy.\n",
    "    \n",
    "Train the model on the training data using fit() method. Specify the training data, labels, number of epochs (iterations over the entire training dataset), and batch size.\n",
    "\n",
    "Evaluate the trained model on the test data using evaluate() method. This returns the loss value and evaluation metric value (accuracy) on the test set.\n",
    "\n",
    "Print the test loss and accuracy.\n",
    "\n",
    "This program trains a neural network model to classify handwritten digits from the MNIST dataset using TensorFlow/Keras and evaluates its performance using test data.\n",
    "\n",
    "'''"
   ]
  },
  {
   "cell_type": "code",
   "execution_count": null,
   "id": "4320139c",
   "metadata": {},
   "outputs": [],
   "source": []
  }
 ],
 "metadata": {
  "kernelspec": {
   "display_name": "Python 3 (ipykernel)",
   "language": "python",
   "name": "python3"
  },
  "language_info": {
   "codemirror_mode": {
    "name": "ipython",
    "version": 3
   },
   "file_extension": ".py",
   "mimetype": "text/x-python",
   "name": "python",
   "nbconvert_exporter": "python",
   "pygments_lexer": "ipython3",
   "version": "3.10.9"
  }
 },
 "nbformat": 4,
 "nbformat_minor": 5
}
