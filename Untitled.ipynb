{
 "cells": [
  {
   "cell_type": "code",
   "execution_count": 80,
   "id": "b7bdd649-a3a3-4576-b4e4-ac872ec6e9b3",
   "metadata": {},
   "outputs": [],
   "source": [
    "import numpy as np"
   ]
  },
  {
   "cell_type": "code",
   "execution_count": 81,
   "id": "fa58990f-1d05-4a05-ae4c-1e656a4aee2d",
   "metadata": {},
   "outputs": [
    {
     "data": {
      "text/plain": [
       "array([[0, 0],\n",
       "       [0, 1],\n",
       "       [1, 0],\n",
       "       [1, 1]])"
      ]
     },
     "execution_count": 81,
     "metadata": {},
     "output_type": "execute_result"
    }
   ],
   "source": [
    "input_table = np.array([\n",
    "    [0,0],\n",
    "    [0,1],\n",
    "    [1,0],\n",
    "    [1,1]\n",
    "])\n",
    "input_table"
   ]
  },
  {
   "cell_type": "code",
   "execution_count": 82,
   "id": "835abe5b-3ca0-4096-a8e2-1cc641b49b45",
   "metadata": {},
   "outputs": [
    {
     "data": {
      "text/plain": [
       "array([ 1, -1])"
      ]
     },
     "execution_count": 82,
     "metadata": {},
     "output_type": "execute_result"
    }
   ],
   "source": [
    "weights = np.array([1,-1])\n",
    "weights"
   ]
  },
  {
   "cell_type": "code",
   "execution_count": 83,
   "id": "ca21d441-4a65-4e19-a2e2-a1f09e5f81f7",
   "metadata": {},
   "outputs": [],
   "source": [
    "T = 1 #Threshold"
   ]
  },
  {
   "cell_type": "code",
   "execution_count": 113,
   "id": "2c090507-be80-425d-9f6e-5f034e853a83",
   "metadata": {},
   "outputs": [
    {
     "data": {
      "text/plain": [
       "array([ 0, -1,  1,  0])"
      ]
     },
     "execution_count": 113,
     "metadata": {},
     "output_type": "execute_result"
    }
   ],
   "source": [
    "#weighted sum\n",
    "dot_product = np.dot(input_table,weights)\n",
    "dot_product"
   ]
  },
  {
   "cell_type": "code",
   "execution_count": 117,
   "id": "8b5736ee-0bc3-4552-b085-8d21ad3d8670",
   "metadata": {},
   "outputs": [],
   "source": [
    "def activation(sum):\n",
    "    if sum>=T:\n",
    "        return 1\n",
    "    else:\n",
    "        return 0"
   ]
  },
  {
   "cell_type": "code",
   "execution_count": 131,
   "id": "7fc56644-65bc-475d-9e4f-abaa1df9240c",
   "metadata": {},
   "outputs": [
    {
     "name": "stdout",
     "output_type": "stream",
     "text": [
      "-----Output-----\n",
      "[0,0]= 0\n",
      "[0,1]= 0\n",
      "[1,0]= 1\n",
      "[1,1]= 0\n"
     ]
    }
   ],
   "source": [
    "print(\"-----Output-----\")\n",
    "print(\"[0,0]=\",activation(sum[0]))\n",
    "print(\"[0,1]=\",activation(sum[1]))\n",
    "print(\"[1,0]=\",activation(sum[2]))\n",
    "print(\"[1,1]=\",activation(sum[3]))"
   ]
  },
  {
   "cell_type": "code",
   "execution_count": 141,
   "id": "6f4664ac-0885-45d9-8bd6-87ce2e5fa779",
   "metadata": {},
   "outputs": [],
   "source": [
    "x1\n",
    "x2\n",
    "w1 = 1\n",
    "w2 = -1"
   ]
  },
  {
   "cell_type": "code",
   "execution_count": 142,
   "id": "44a150b1-6fc2-4867-bd88-53704a7ef3cd",
   "metadata": {},
   "outputs": [],
   "source": [
    "#weighted sum\n",
    "sum = w1*x1 + w2*x2"
   ]
  },
  {
   "cell_type": "code",
   "execution_count": 143,
   "id": "3c9acbdb-4015-40e6-af93-0e265bffa226",
   "metadata": {},
   "outputs": [],
   "source": [
    "def activation(x1,x2):\n",
    "    if sum>=T:\n",
    "        return 1\n",
    "    else:\n",
    "        return 0"
   ]
  },
  {
   "cell_type": "code",
   "execution_count": 146,
   "id": "d8226501-dcf1-4174-a070-890cad56ef6e",
   "metadata": {},
   "outputs": [
    {
     "name": "stdout",
     "output_type": "stream",
     "text": [
      "[0,0]= 1\n",
      "[0,1]= 1\n",
      "[1,0]= 1\n",
      "[1,1]= 1\n"
     ]
    }
   ],
   "source": [
    "print(\"[0,0]=\",activation(0,0))\n",
    "print(\"[0,1]=\",activation(0,1))\n",
    "print(\"[1,0]=\",activation(1,0))\n",
    "print(\"[1,1]=\",activation(1,1))"
   ]
  },
  {
   "cell_type": "code",
   "execution_count": null,
   "id": "4d99213e-169b-4fe5-8a9e-4fc7d23a1a08",
   "metadata": {},
   "outputs": [],
   "source": []
  }
 ],
 "metadata": {
  "kernelspec": {
   "display_name": "Python 3 (ipykernel)",
   "language": "python",
   "name": "python3"
  },
  "language_info": {
   "codemirror_mode": {
    "name": "ipython",
    "version": 3
   },
   "file_extension": ".py",
   "mimetype": "text/x-python",
   "name": "python",
   "nbconvert_exporter": "python",
   "pygments_lexer": "ipython3",
   "version": "3.11.1"
  },
  "widgets": {
   "application/vnd.jupyter.widget-state+json": {
    "state": {},
    "version_major": 2,
    "version_minor": 0
   }
  }
 },
 "nbformat": 4,
 "nbformat_minor": 5
}
